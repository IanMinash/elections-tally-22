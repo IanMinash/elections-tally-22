{
 "cells": [
  {
   "cell_type": "code",
   "execution_count": null,
   "metadata": {},
   "outputs": [],
   "source": [
    "from elections import *\n",
    "import pandas as pd\n",
    "\n",
    "tally = get_tally_from_citizen() + get_tally_from_nation() + get_tally_from_standard()\n",
    "\n",
    "tally = pd.DataFrame(tally)\n",
    "\n",
    "print(tally)"
   ]
  },
  {
   "cell_type": "code",
   "execution_count": null,
   "metadata": {},
   "outputs": [],
   "source": [
    "tally = tally.sort_values([\"county\", \"votes\"], ascending=[True, False])"
   ]
  },
  {
   "cell_type": "code",
   "execution_count": null,
   "metadata": {},
   "outputs": [],
   "source": [
    "per_county_highest = tally.drop_duplicates(keep=\"first\", subset=[\"county\", \"name\"])"
   ]
  },
  {
   "cell_type": "code",
   "execution_count": null,
   "metadata": {},
   "outputs": [],
   "source": [
    "total = per_county_highest.groupby([\"name\"]).sum()\n",
    "total[\"percentage\"] = total.votes / total.votes.sum() * 100\n",
    "\n",
    "total = total.sort_values([\"votes\"], ascending=[False])\n",
    "\n",
    "print(total)"
   ]
  }
 ],
 "metadata": {
  "kernelspec": {
   "display_name": "Python 3.8.10 ('nascop-cleanup-97pE-Dj8')",
   "language": "python",
   "name": "python3"
  },
  "language_info": {
   "codemirror_mode": {
    "name": "ipython",
    "version": 3
   },
   "file_extension": ".py",
   "mimetype": "text/x-python",
   "name": "python",
   "nbconvert_exporter": "python",
   "pygments_lexer": "ipython3",
   "version": "3.8.10"
  },
  "orig_nbformat": 4,
  "vscode": {
   "interpreter": {
    "hash": "1bd8e67c41d6af68edcc9e2ce554d1377effbecfde92d59bf2de4940bf5935b6"
   }
  }
 },
 "nbformat": 4,
 "nbformat_minor": 2
}
